{
 "cells": [
  {
   "cell_type": "code",
   "execution_count": 26,
   "metadata": {
    "ExecuteTime": {
     "end_time": "2020-11-19T06:54:23.726761Z",
     "start_time": "2020-11-19T06:54:23.711304Z"
    }
   },
   "outputs": [],
   "source": [
    "import os\n",
    "from nltk.parse import stanford\n",
    "import nltk\n",
    "java_path = \"C:/Program Files/Java/jdk-13.0.2/bin/java.exe\"\n",
    "os.environ['JAVAHOME'] = java_path\n",
    "# nltk.download()"
   ]
  },
  {
   "cell_type": "code",
   "execution_count": 27,
   "metadata": {
    "ExecuteTime": {
     "end_time": "2020-11-19T06:54:27.158254Z",
     "start_time": "2020-11-19T06:54:25.456761Z"
    }
   },
   "outputs": [
    {
     "name": "stderr",
     "output_type": "stream",
     "text": [
      "C:\\Users\\sadam\\Anaconda3\\lib\\site-packages\\ipykernel_launcher.py:6: DeprecationWarning: The StanfordDependencyParser will be deprecated\n",
      "Please use \u001b[91mnltk.parse.corenlp.CoreNLPDependencyParser\u001b[0m instead.\n",
      "  \n"
     ]
    },
    {
     "name": "stdout",
     "output_type": "stream",
     "text": [
      "[Tree('jumps', [Tree('fox', ['The', 'quick', 'brown']), Tree('dog', ['over', 'the', 'lazy'])])]\n"
     ]
    }
   ],
   "source": [
    "# Dependency Tree\n",
    "from nltk.parse.stanford import StanfordDependencyParser\n",
    "from nltk.parse.stanford import StanfordDependencyParser\n",
    "os.environ['CLASSPATH'] = r\"E:/The University of Texas at Dallas/Fall 2020\\Natural Language Processing- CS 6320.501/NLP Project/stanford-parser-full-2020-11-17\"\n",
    "Mod_path = r\"E:/The University of Texas at Dallas/Fall 2020/Natural Language Processing- CS 6320.501/NLP Project/Dep_Model/englishPCFG.caseless.ser.gz\"\n",
    "dep_parser=StanfordDependencyParser(model_path=Mod_path)\n",
    "print([parse.tree() for parse in dep_parser.raw_parse(\"The quick brown fox jumps over the lazy dog.\")])"
   ]
  },
  {
   "cell_type": "code",
   "execution_count": 28,
   "metadata": {
    "ExecuteTime": {
     "end_time": "2020-11-19T06:54:52.899425Z",
     "start_time": "2020-11-19T06:54:52.875869Z"
    }
   },
   "outputs": [],
   "source": [
    "def lca(tree, index1, index2):\n",
    "    node = index1\n",
    "    path1 = []\n",
    "    path2 = []\n",
    "    path1.append(index1)\n",
    "    path2.append(index2)\n",
    "    while(node != tree.root):\n",
    "        node = tree.nodes[node['head']]\n",
    "        path1.append(node)\n",
    "    node = index2\n",
    "    while(node != tree.root):\n",
    "        node = tree.nodes[node['head']]\n",
    "        path2.append(node)\n",
    "    for l1, l2 in zip(path1[::-1],path2[::-1]):\n",
    "        if(l1==l2):\n",
    "            temp = l1\n",
    "    return temp"
   ]
  },
  {
   "cell_type": "code",
   "execution_count": 29,
   "metadata": {
    "ExecuteTime": {
     "end_time": "2020-11-19T06:54:55.362263Z",
     "start_time": "2020-11-19T06:54:55.341319Z"
    }
   },
   "outputs": [],
   "source": [
    "def path_lca(tree, node, lca_node):\n",
    "    path = []\n",
    "    path.append(node)\n",
    "    while(node != lca_node):\n",
    "        node = tree.nodes[node['head']]\n",
    "        path.append(node)\n",
    "    return path"
   ]
  },
  {
   "cell_type": "code",
   "execution_count": 34,
   "metadata": {
    "ExecuteTime": {
     "end_time": "2020-11-19T06:56:54.212400Z",
     "start_time": "2020-11-19T06:56:54.205337Z"
    }
   },
   "outputs": [],
   "source": [
    "import _pickle \n",
    "f = open(\"../data/train_data\", 'rb')\n",
    "sentences, e1, e2 = _pickle.load(f)\n",
    "f.close()"
   ]
  },
  {
   "cell_type": "code",
   "execution_count": 35,
   "metadata": {
    "ExecuteTime": {
     "end_time": "2020-11-19T06:56:59.079176Z",
     "start_time": "2020-11-19T06:56:59.061413Z"
    }
   },
   "outputs": [],
   "source": [
    "# sentences[7588] = 'The reaction mixture is kept in the dark at room temperature for 1.5 hours .'\n",
    "# sentences[2608] = \"This strawberry sauce has about a million uses , is freezer-friendly , and is so much better than that jar of Smuckers strawberry sauce that you 've had sitting in your fridge since that time you made banana splits 1.5 years ago .\""
   ]
  },
  {
   "cell_type": "code",
   "execution_count": null,
   "metadata": {},
   "outputs": [],
   "source": [
    "## Uncomment this for test set. \n",
    "# sentences[2590] = \"The pendant with the bail measure 1.25'' .\"\n",
    "# sentences[2664] = \"The cabinet encloses a 6.5 inch cone woofer , 4 inch cone midrange , and a 0.86 inch balanced dome tweeter .\""
   ]
  },
  {
   "cell_type": "code",
   "execution_count": 41,
   "metadata": {
    "ExecuteTime": {
     "end_time": "2020-11-19T07:01:21.089427Z",
     "start_time": "2020-11-19T07:01:21.066580Z"
    }
   },
   "outputs": [],
   "source": [
    "word_path1 = []\n",
    "word_path2 = []\n",
    "rel_path1 = []\n",
    "rel_path2 = []\n",
    "pos_path1 = []\n",
    "pos_path2 = []\n",
    "# for i in range(8000):\n",
    "for i in range(40):\n",
    "    word_path1.append(0)\n",
    "    word_path2.append(0)\n",
    "    rel_path1.append(0)\n",
    "    rel_path2.append(0)\n",
    "    pos_path1.append(0)\n",
    "    pos_path2.append(0)"
   ]
  },
  {
   "cell_type": "code",
   "execution_count": 43,
   "metadata": {
    "ExecuteTime": {
     "end_time": "2020-11-19T07:04:40.254156Z",
     "start_time": "2020-11-19T07:03:00.363276Z"
    },
    "scrolled": true
   },
   "outputs": [
    {
     "name": "stdout",
     "output_type": "stream",
     "text": [
      "0 success\n",
      "1 success\n",
      "2 success\n",
      "3 success\n",
      "4 success\n",
      "5 success\n",
      "6 success\n",
      "7 success\n",
      "8 success\n",
      "9 success\n",
      "10 success\n",
      "11 success\n",
      "12 success\n",
      "13 success\n",
      "14 success\n",
      "15 success\n",
      "16 success\n",
      "17 success\n",
      "18 success\n",
      "19 success\n",
      "20 success\n",
      "21 success\n",
      "22 success\n",
      "23 success\n",
      "24 success\n",
      "25 success\n",
      "26 success\n",
      "27 success\n",
      "28 success\n",
      "29 success\n",
      "30 success\n",
      "31 success\n",
      "32 success\n",
      "33 success\n",
      "34 success\n",
      "35 success\n",
      "36 success\n",
      "37 success\n",
      "38 success\n",
      "39 success\n"
     ]
    }
   ],
   "source": [
    "# for i in range(8000):\n",
    "for i in range(40):\n",
    "    try:\n",
    "        parse_tree = dep_parser.raw_parse(sentences[i])\n",
    "        for trees in parse_tree:\n",
    "            tree = trees\n",
    "        node1 = tree.nodes[e1[i]+1]\n",
    "        node2 = tree.nodes[e2[i]+1]\n",
    "        if node1['address']!=None and node2['address']!=None:\n",
    "            print(i, \"success\")\n",
    "            lca_node = lca(tree, node1, node2)\n",
    "            path1 = path_lca(tree, node1, lca_node)\n",
    "            path2 = path_lca(tree, node2, lca_node)\n",
    "\n",
    "            word_path1[i] = [p[\"word\"] for p in path1]\n",
    "            word_path2[i] = [p[\"word\"] for p in path2]\n",
    "            rel_path1[i] = [p[\"rel\"] for p in path1]\n",
    "            rel_path2[i] = [p[\"rel\"] for p in path2]\n",
    "            pos_path1[i] = [p[\"tag\"] for p in path1]\n",
    "            pos_path2[i] = [p[\"tag\"] for p in path2]\n",
    "        else:\n",
    "            print(i, node1[\"address\"], node2[\"address\"])\n",
    "    except AssertionError:\n",
    "        print(i, \"error\")\n",
    "    "
   ]
  },
  {
   "cell_type": "code",
   "execution_count": 44,
   "metadata": {
    "ExecuteTime": {
     "end_time": "2020-11-19T07:04:46.457467Z",
     "start_time": "2020-11-19T07:04:46.443231Z"
    }
   },
   "outputs": [
    {
     "data": {
      "text/plain": [
       "40"
      ]
     },
     "execution_count": 44,
     "metadata": {},
     "output_type": "execute_result"
    }
   ],
   "source": [
    "len(pos_path2)"
   ]
  },
  {
   "cell_type": "code",
   "execution_count": 46,
   "metadata": {
    "ExecuteTime": {
     "end_time": "2020-11-19T07:05:55.672093Z",
     "start_time": "2020-11-19T07:05:55.652436Z"
    }
   },
   "outputs": [],
   "source": [
    "file = open('../data/train_paths', 'wb')\n",
    "_pickle.dump([word_path1, word_path2, rel_path1, rel_path2, pos_path1, pos_path2], file)"
   ]
  }
 ],
 "metadata": {
  "kernelspec": {
   "display_name": "Python 3",
   "language": "python",
   "name": "python3"
  },
  "language_info": {
   "codemirror_mode": {
    "name": "ipython",
    "version": 3
   },
   "file_extension": ".py",
   "mimetype": "text/x-python",
   "name": "python",
   "nbconvert_exporter": "python",
   "pygments_lexer": "ipython3",
   "version": "3.7.4"
  }
 },
 "nbformat": 4,
 "nbformat_minor": 2
}
