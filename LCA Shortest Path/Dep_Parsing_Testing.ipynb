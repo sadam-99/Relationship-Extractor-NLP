{
 "cells": [
  {
   "cell_type": "code",
   "execution_count": 1,
   "metadata": {
    "ExecuteTime": {
     "end_time": "2020-11-28T03:25:43.452133Z",
     "start_time": "2020-11-28T03:25:41.732168Z"
    }
   },
   "outputs": [],
   "source": [
    "import os\n",
    "from nltk.parse import stanford\n",
    "import nltk\n",
    "java_path = \"C:/Program Files/Java/jdk-13.0.2/bin/java.exe\"\n",
    "os.environ['JAVAHOME'] = java_path"
   ]
  },
  {
   "cell_type": "code",
   "execution_count": 2,
   "metadata": {
    "ExecuteTime": {
     "end_time": "2020-11-28T03:25:45.593114Z",
     "start_time": "2020-11-28T03:25:43.453821Z"
    }
   },
   "outputs": [
    {
     "name": "stderr",
     "output_type": "stream",
     "text": [
      "C:\\Users\\sadam\\Anaconda3\\lib\\site-packages\\ipykernel_launcher.py:4: DeprecationWarning: The StanfordDependencyParser will be deprecated\n",
      "Please use \u001b[91mnltk.parse.corenlp.CoreNLPDependencyParser\u001b[0m instead.\n",
      "  after removing the cwd from sys.path.\n"
     ]
    },
    {
     "name": "stdout",
     "output_type": "stream",
     "text": [
      "[Tree('jumps', [Tree('fox', ['The', 'quick', 'brown']), Tree('dog', ['over', 'the', 'lazy'])])]\n"
     ]
    }
   ],
   "source": [
    "from nltk.parse.stanford import StanfordDependencyParser\n",
    "os.environ['CLASSPATH'] = r\"E:/The University of Texas at Dallas/Fall 2020\\Natural Language Processing- CS 6320.501/NLP Project/stanford-parser-full-2020-11-17\"\n",
    "Mod_path = r\"E:/The University of Texas at Dallas/Fall 2020/Natural Language Processing- CS 6320.501/NLP Project/Dep_Model/englishPCFG.caseless.ser.gz\"\n",
    "dep_parser=StanfordDependencyParser(model_path=Mod_path)\n",
    "print([parse.tree() for parse in dep_parser.raw_parse(\"The quick brown fox jumps over the lazy dog.\")])"
   ]
  }
 ],
 "metadata": {
  "kernelspec": {
   "display_name": "Python 3",
   "language": "python",
   "name": "python3"
  },
  "language_info": {
   "codemirror_mode": {
    "name": "ipython",
    "version": 3
   },
   "file_extension": ".py",
   "mimetype": "text/x-python",
   "name": "python",
   "nbconvert_exporter": "python",
   "pygments_lexer": "ipython3",
   "version": "3.7.4"
  }
 },
 "nbformat": 4,
 "nbformat_minor": 2
}
