{
 "cells": [
  {
   "cell_type": "code",
   "execution_count": 2,
   "metadata": {
    "ExecuteTime": {
     "end_time": "2020-11-20T05:59:16.772018Z",
     "start_time": "2020-11-20T05:59:08.968724Z"
    }
   },
   "outputs": [
    {
     "name": "stderr",
     "output_type": "stream",
     "text": [
      "Using TensorFlow backend.\n"
     ]
    }
   ],
   "source": [
    "import keras\n",
    "import tensorflow as tf"
   ]
  },
  {
   "cell_type": "code",
   "execution_count": 3,
   "metadata": {
    "ExecuteTime": {
     "end_time": "2020-11-20T05:59:17.343609Z",
     "start_time": "2020-11-20T05:59:17.335649Z"
    }
   },
   "outputs": [],
   "source": [
    "# driving parameters\n",
    "sz_batch = 128\n",
    "sz_latent = 200\n",
    "sz_sequence = 196\n",
    "sz_feature = 2\n",
    "n_units = 120\n",
    "n_layers = 3"
   ]
  },
  {
   "cell_type": "code",
   "execution_count": 4,
   "metadata": {
    "ExecuteTime": {
     "end_time": "2020-11-20T05:59:20.668261Z",
     "start_time": "2020-11-20T05:59:19.538414Z"
    }
   },
   "outputs": [
    {
     "name": "stdout",
     "output_type": "stream",
     "text": [
      "WARNING:tensorflow:From C:\\Users\\sadam\\Anaconda3\\lib\\site-packages\\tensorflow\\python\\ops\\init_ops.py:1251: calling VarianceScaling.__init__ (from tensorflow.python.ops.init_ops) with dtype is deprecated and will be removed in a future version.\n",
      "Instructions for updating:\n",
      "Call initializer instance with the dtype argument instead of passing it to the constructor\n",
      "Model: \"model\"\n",
      "_________________________________________________________________\n",
      "Layer (type)                 Output Shape              Param #   \n",
      "=================================================================\n",
      "input_1 (InputLayer)         [(128, 196, 2)]           0         \n",
      "_________________________________________________________________\n",
      "rnn (RNN)                    (128, 196, 120)           217800    \n",
      "_________________________________________________________________\n",
      "dense (Dense)                (128, 196, 1)             121       \n",
      "=================================================================\n",
      "Total params: 217,921\n",
      "Trainable params: 217,921\n",
      "Non-trainable params: 0\n",
      "_________________________________________________________________\n"
     ]
    }
   ],
   "source": [
    "inputs = tf.keras.layers.Input(batch_shape=(sz_batch, sz_sequence, sz_feature))\n",
    "cells = [tf.keras.layers.GRUCell(n_units) for _ in range(n_layers)]\n",
    "outputs = tf.keras.layers.RNN(cells, stateful=True, return_sequences=True, return_state=False)(inputs)\n",
    "outputs = tf.keras.layers.Dense(1)(outputs)\n",
    "model = tf.keras.Model(inputs=inputs, outputs=outputs)\n",
    "model.summary()"
   ]
  }
 ],
 "metadata": {
  "kernelspec": {
   "display_name": "Python 3",
   "language": "python",
   "name": "python3"
  },
  "language_info": {
   "codemirror_mode": {
    "name": "ipython",
    "version": 3
   },
   "file_extension": ".py",
   "mimetype": "text/x-python",
   "name": "python",
   "nbconvert_exporter": "python",
   "pygments_lexer": "ipython3",
   "version": "3.7.4"
  }
 },
 "nbformat": 4,
 "nbformat_minor": 2
}
